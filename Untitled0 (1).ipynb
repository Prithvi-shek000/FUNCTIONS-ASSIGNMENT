{
  "nbformat": 4,
  "nbformat_minor": 0,
  "metadata": {
    "colab": {
      "provenance": []
    },
    "kernelspec": {
      "name": "python3",
      "display_name": "Python 3"
    },
    "language_info": {
      "name": "python"
    }
  },
  "cells": [
    {
      "cell_type": "markdown",
      "source": [
        "                       #FUNCTIONS ASSIGNMENT"
      ],
      "metadata": {
        "id": "dTj7EBIodbKo"
      }
    },
    {
      "cell_type": "markdown",
      "source": [
        "                            THEORITICAL QUESTIONS"
      ],
      "metadata": {
        "id": "6Xr7jZPDd21D"
      }
    },
    {
      "cell_type": "markdown",
      "source": [
        "1.What is the difference between a function and a method in Python?"
      ],
      "metadata": {
        "id": "__tW_mtGd98F"
      }
    },
    {
      "cell_type": "markdown",
      "source": [
        "-> In Python:\n",
        "\n",
        "Function: A block of code that is defined independently and can be called directly.\n",
        "\n",
        "Example:"
      ],
      "metadata": {
        "id": "X-8v-MGUecT-"
      }
    },
    {
      "cell_type": "code",
      "source": [
        "def add(a, b):\n",
        "    return a + b\n",
        "\n",
        "result = add(2, 3)\n",
        "print(result)  # Output: 5\n"
      ],
      "metadata": {
        "colab": {
          "base_uri": "https://localhost:8080/"
        },
        "id": "6Zw_clUSewcq",
        "outputId": "d739afc6-b52d-4b07-dd06-c6750a9d65e9"
      },
      "execution_count": 1,
      "outputs": [
        {
          "output_type": "stream",
          "name": "stdout",
          "text": [
            "5\n"
          ]
        }
      ]
    },
    {
      "cell_type": "markdown",
      "source": [
        "Method: A function defined within a class, bound to instances of that class, and called using the dot notation.\n",
        "\n",
        "Example:"
      ],
      "metadata": {
        "id": "d9KIWFu5e4lq"
      }
    },
    {
      "cell_type": "code",
      "source": [
        "class MyClass:\n",
        "    def greet(self):\n",
        "        return \"Hello!\"\n",
        "\n",
        "obj = MyClass()\n",
        "print(obj.greet())  # Output: Hello!\n"
      ],
      "metadata": {
        "colab": {
          "base_uri": "https://localhost:8080/"
        },
        "id": "hUDzaMjde81i",
        "outputId": "bb3fda1d-1385-45de-f386-6c0b167b3e00"
      },
      "execution_count": 2,
      "outputs": [
        {
          "output_type": "stream",
          "name": "stdout",
          "text": [
            "Hello!\n"
          ]
        }
      ]
    },
    {
      "cell_type": "markdown",
      "source": [
        "Key Difference:\n",
        "Function: Independent and can be called by its name.\n",
        "\n",
        "Method: Bound to an object and called on that object."
      ],
      "metadata": {
        "id": "DYBKnpKVfLn5"
      }
    },
    {
      "cell_type": "markdown",
      "source": [
        "2.Explain the concept of function arguments and parameters in Python."
      ],
      "metadata": {
        "id": "JaME4Rc6fXic"
      }
    },
    {
      "cell_type": "markdown",
      "source": [
        "-> In Python, parameters are variables defined in the function signature that specify the inputs the function expects. Arguments are the actual values passed to the function when calling it.\n",
        "\n",
        "Example:"
      ],
      "metadata": {
        "id": "cXoO5_LpfcHp"
      }
    },
    {
      "cell_type": "code",
      "source": [
        "def greet(name, age):  # 'name' and 'age' are parameters\n",
        "    print(f\"Hello {name}, you are {age} years old.\")\n",
        "\n",
        "greet(\"Alice\", 25)  # \"Alice\" and 25 are arguments\n"
      ],
      "metadata": {
        "colab": {
          "base_uri": "https://localhost:8080/"
        },
        "id": "GzoRwhSdf1ZP",
        "outputId": "81a4a6b9-4051-4b3b-9ee6-7704dab258e8"
      },
      "execution_count": 3,
      "outputs": [
        {
          "output_type": "stream",
          "name": "stdout",
          "text": [
            "Hello Alice, you are 25 years old.\n"
          ]
        }
      ]
    },
    {
      "cell_type": "markdown",
      "source": [
        "In this example:\n",
        "\n",
        "name and age are parameters.\n",
        "\n",
        "\"Alice\" and 25 are arguments passed to the function when called.\n",
        "\n",
        "\n"
      ],
      "metadata": {
        "id": "q_Ijam80f8BS"
      }
    },
    {
      "cell_type": "markdown",
      "source": [
        "3. What are the different ways to define and call a function in Python?"
      ],
      "metadata": {
        "id": "wYce5V2YgGiG"
      }
    },
    {
      "cell_type": "markdown",
      "source": [
        "->In Python, you can define and call a function in several ways:\n",
        "\n",
        "1. Standard Function Definition and Call\n",
        "A basic function is defined with the def keyword and called by its name.\n",
        "\n",
        "Example:"
      ],
      "metadata": {
        "id": "vK1qlcsigNWW"
      }
    },
    {
      "cell_type": "code",
      "source": [
        "def greet(name):\n",
        "    print(f\"Hello, {name}!\")\n",
        "\n",
        "greet(\"Alice\")  # Calling the function\n"
      ],
      "metadata": {
        "colab": {
          "base_uri": "https://localhost:8080/"
        },
        "id": "9bOSTk-sghfq",
        "outputId": "b30a0240-974d-48b2-b206-0344be4fa61b"
      },
      "execution_count": 4,
      "outputs": [
        {
          "output_type": "stream",
          "name": "stdout",
          "text": [
            "Hello, Alice!\n"
          ]
        }
      ]
    },
    {
      "cell_type": "markdown",
      "source": [
        "2. Function with Default Arguments\n",
        "You can define default values for parameters, which are used if no argument is passed.\n",
        "\n",
        "Example:"
      ],
      "metadata": {
        "id": "YEMJ4RDGglL-"
      }
    },
    {
      "cell_type": "code",
      "source": [
        "def greet(name, message=\"Hello\"):\n",
        "    print(f\"{message}, {name}!\")\n",
        "\n",
        "greet(\"Alice\")        # Uses default message\n",
        "greet(\"Bob\", \"Hi\")    # Uses custom message\n"
      ],
      "metadata": {
        "colab": {
          "base_uri": "https://localhost:8080/"
        },
        "id": "dEygjeXngpmr",
        "outputId": "e7438810-c536-49ce-c2ff-a94d50727324"
      },
      "execution_count": 5,
      "outputs": [
        {
          "output_type": "stream",
          "name": "stdout",
          "text": [
            "Hello, Alice!\n",
            "Hi, Bob!\n"
          ]
        }
      ]
    },
    {
      "cell_type": "markdown",
      "source": [
        "3. Function with Variable-length Arguments\n",
        "You can use *args for a variable number of positional arguments, and **kwargs for keyword arguments.\n",
        "\n",
        "Example:"
      ],
      "metadata": {
        "id": "yd6RIR6Ggupg"
      }
    },
    {
      "cell_type": "code",
      "source": [
        "def sum_all(*args):\n",
        "    return sum(args)\n",
        "\n",
        "print(sum_all(1, 2, 3))  # Output: 6\n",
        "\n",
        "def show_info(**kwargs):\n",
        "    print(kwargs)\n",
        "\n",
        "show_info(name=\"Alice\", age=25)  # Output: {'name': 'Alice', 'age': 25}\n"
      ],
      "metadata": {
        "colab": {
          "base_uri": "https://localhost:8080/"
        },
        "id": "TS_WM08Cgxqv",
        "outputId": "f98f530c-7da6-4c72-b769-b6158e62eca4"
      },
      "execution_count": 6,
      "outputs": [
        {
          "output_type": "stream",
          "name": "stdout",
          "text": [
            "6\n",
            "{'name': 'Alice', 'age': 25}\n"
          ]
        }
      ]
    },
    {
      "cell_type": "markdown",
      "source": [
        "Summary:\n",
        "\n",
        ". Standard function: Defined with def and called by its name.\n",
        "\n",
        ". Default arguments: Parameters with default values.\n",
        "\n",
        ". Variable-length arguments: Using *args or **kwargs for flexible inputs.\n",
        "\n",
        "\n"
      ],
      "metadata": {
        "id": "CFWr6Iesg1iU"
      }
    },
    {
      "cell_type": "markdown",
      "source": [
        "4. What is the purpose of the `return` statement in a Python function?"
      ],
      "metadata": {
        "id": "kRaetgcHhGUq"
      }
    },
    {
      "cell_type": "markdown",
      "source": [
        "-> The return statement in a Python function is used to send a result back from the function to the caller. It ends the function's execution and optionally provides a value.\n",
        "\n",
        "Purpose:\n",
        "\n",
        "To return a value to the caller.\n",
        "\n",
        "To terminate the function early (if used before the end).\n",
        "\n",
        "Example 1: Returning a value"
      ],
      "metadata": {
        "id": "Tb2jm_eYhUnA"
      }
    },
    {
      "cell_type": "code",
      "source": [
        "def add(a, b):\n",
        "    return a + b\n",
        "\n",
        "result = add(3, 5)\n",
        "print(result)  # Output: 8\n"
      ],
      "metadata": {
        "colab": {
          "base_uri": "https://localhost:8080/"
        },
        "id": "UkEBO7dDhnc8",
        "outputId": "af47aa8b-6ba5-44c6-ecc0-ec4459efd0e2"
      },
      "execution_count": 7,
      "outputs": [
        {
          "output_type": "stream",
          "name": "stdout",
          "text": [
            "8\n"
          ]
        }
      ]
    },
    {
      "cell_type": "markdown",
      "source": [
        "Example 2: Early termination-"
      ],
      "metadata": {
        "id": "tkHz6LfWhqaU"
      }
    },
    {
      "cell_type": "code",
      "source": [
        "def check_even(number):\n",
        "    if number % 2 == 0:\n",
        "        return True  # Ends function here\n",
        "    return False\n",
        "\n",
        "print(check_even(4))  # Output: True\n",
        "print(check_even(5))  # Output: False\n"
      ],
      "metadata": {
        "colab": {
          "base_uri": "https://localhost:8080/"
        },
        "id": "IJh8ymJHhwVA",
        "outputId": "80696e81-fedb-440a-f252-1930dbbdb56a"
      },
      "execution_count": 8,
      "outputs": [
        {
          "output_type": "stream",
          "name": "stdout",
          "text": [
            "True\n",
            "False\n"
          ]
        }
      ]
    },
    {
      "cell_type": "markdown",
      "source": [
        "Summary:\n",
        "\n",
        ". return sends a value from the function to the caller.\n",
        "\n",
        ". It also terminates the function's execution"
      ],
      "metadata": {
        "id": "QRh8pLDDh0QZ"
      }
    },
    {
      "cell_type": "markdown",
      "source": [
        "5. What are iterators in Python and how do they differ from iterables?"
      ],
      "metadata": {
        "id": "Hk4h0Im2h-Im"
      }
    },
    {
      "cell_type": "markdown",
      "source": [
        "->\n",
        "In Python:\n",
        "\n",
        "Iterable: An object that can be looped over (iterated) using a for loop. It implements the __iter__() method or has a __getitem__() method. Examples include lists, tuples, and strings.\n",
        "\n",
        "Iterator: An object that represents a stream of data, which can be iterated upon. It implements both the __iter__() and __next__() methods. An iterator keeps track of its current state during iteration.\n",
        "\n",
        "Difference:\n",
        "\n",
        "Iterable: Can be iterated over, but needs to be converted to an iterator for actual iteration.\n",
        "\n",
        "Iterator: Holds the current state of iteration and generates the next value on request.\n",
        "\n",
        "Example:"
      ],
      "metadata": {
        "id": "T_3kviJ-iCjf"
      }
    },
    {
      "cell_type": "code",
      "source": [
        "# Iterable\n",
        "numbers = [1, 2, 3]  # List is an iterable\n",
        "iterator = iter(numbers)  # Convert iterable to iterator\n",
        "\n",
        "# Iterator usage\n",
        "print(next(iterator))  # Output: 1\n",
        "print(next(iterator))  # Output: 2\n",
        "print(next(iterator))  # Output: 3\n",
        "# next(iterator) will raise StopIteration after all elements are exhausted\n"
      ],
      "metadata": {
        "colab": {
          "base_uri": "https://localhost:8080/"
        },
        "id": "7mWERaKSiVmM",
        "outputId": "69589a47-50e3-495a-888c-58fc48a2fc1b"
      },
      "execution_count": 9,
      "outputs": [
        {
          "output_type": "stream",
          "name": "stdout",
          "text": [
            "1\n",
            "2\n",
            "3\n"
          ]
        }
      ]
    },
    {
      "cell_type": "markdown",
      "source": [
        "Summary:\n",
        "\n",
        "Iterable: Can be looped over, but needs iter() to get an iterator.\n",
        "\n",
        "Iterator: Can be used to retrieve elements one by one using next().\n",
        "\n",
        "\n"
      ],
      "metadata": {
        "id": "cePEbaDeiaA2"
      }
    },
    {
      "cell_type": "markdown",
      "source": [
        "6. Explain the concept of generators in Python and how they are defined."
      ],
      "metadata": {
        "id": "rsoolNQGifsY"
      }
    },
    {
      "cell_type": "markdown",
      "source": [
        "->\n",
        "In Python, generators are a special type of iterator that allow you to iterate over a sequence of values lazily, meaning they generate values on the fly rather than storing them all at once in memory. This makes them memory efficient, especially for large datasets.\n",
        "\n",
        "How Generators Are Defined:\n",
        "\n",
        "Generators are defined using a function with the yield keyword. Each time the generator's next() method is called, it yields the next value in the sequence.\n",
        "\n",
        "Example:"
      ],
      "metadata": {
        "id": "BbNcd83wikDn"
      }
    },
    {
      "cell_type": "code",
      "source": [
        "def count_up_to(max):\n",
        "    count = 1\n",
        "    while count <= max:\n",
        "        yield count  # Yield the current value\n",
        "        count += 1\n",
        "\n",
        "# Using the generator\n",
        "gen = count_up_to(3)\n",
        "print(next(gen))  # Output: 1\n",
        "print(next(gen))  # Output: 2\n",
        "print(next(gen))  # Output: 3\n",
        "# Calling next(gen) again will raise StopIteration\n"
      ],
      "metadata": {
        "colab": {
          "base_uri": "https://localhost:8080/"
        },
        "id": "1GrpCqPPi0cK",
        "outputId": "bc4823f2-e99b-4bad-ed0f-bd82b33f7111"
      },
      "execution_count": 10,
      "outputs": [
        {
          "output_type": "stream",
          "name": "stdout",
          "text": [
            "1\n",
            "2\n",
            "3\n"
          ]
        }
      ]
    },
    {
      "cell_type": "markdown",
      "source": [
        "Summary:\n",
        "\n",
        "Generators: Functions that use yield to produce a sequence of values one at a time.\n",
        "\n",
        "They allow lazy evaluation, generating values only when needed, making them memory efficient.\n",
        "\n",
        "\n"
      ],
      "metadata": {
        "id": "tsJ35JiLi6jN"
      }
    },
    {
      "cell_type": "markdown",
      "source": [
        "7. What are the advantages of using generators over regular functions?"
      ],
      "metadata": {
        "id": "Ld38CUXzjAY3"
      }
    },
    {
      "cell_type": "markdown",
      "source": [
        "-> Advantages of using generators over regular functions:\n",
        "\n",
        "Memory Efficiency: Generators yield values one at a time, so they don't store the entire sequence in memory. This is especially beneficial when working with large datasets or infinite sequences.\n",
        "\n",
        "Lazy Evaluation: Generators calculate values on demand, which can lead to faster performance when only part of the sequence is needed.\n",
        "\n",
        "Improved Performance: Since generators only compute values as needed, they can be more efficient in terms of both memory and time compared to generating all values at once\n",
        "\n",
        "example:-"
      ],
      "metadata": {
        "id": "YP9m-q6sjEjs"
      }
    },
    {
      "cell_type": "code",
      "source": [
        "# Regular function\n",
        "def generate_numbers(max):\n",
        "    numbers = []\n",
        "    for i in range(1, max + 1):\n",
        "        numbers.append(i)\n",
        "    return numbers\n",
        "\n",
        "# Generator function\n",
        "def generate_numbers_gen(max):\n",
        "    for i in range(1, max + 1):\n",
        "        yield i  # Yield each number one by one\n",
        "\n",
        "# Using regular function (stores all numbers in memory)\n",
        "numbers_list = generate_numbers(5)\n",
        "print(numbers_list)  # Output: [1, 2, 3, 4, 5]\n",
        "\n",
        "# Using generator (memory-efficient, values are generated lazily)\n",
        "gen = generate_numbers_gen(5)\n",
        "for num in gen:\n",
        "    print(num)  # Output: 1, 2, 3, 4, 5 (one at a time)\n"
      ],
      "metadata": {
        "colab": {
          "base_uri": "https://localhost:8080/"
        },
        "id": "almmycdvjcqh",
        "outputId": "9df4f197-ff47-4fec-c83f-8f7205cf90c2"
      },
      "execution_count": 11,
      "outputs": [
        {
          "output_type": "stream",
          "name": "stdout",
          "text": [
            "[1, 2, 3, 4, 5]\n",
            "1\n",
            "2\n",
            "3\n",
            "4\n",
            "5\n"
          ]
        }
      ]
    },
    {
      "cell_type": "markdown",
      "source": [
        "Summary:\n",
        "\n",
        "Generators are memory-efficient and lazily evaluated.\n",
        "\n",
        "Regular functions return entire results upfront, which can be less efficient for large or infinite sequences."
      ],
      "metadata": {
        "id": "x80NRC3Ajklx"
      }
    },
    {
      "cell_type": "markdown",
      "source": [
        "8. What is a lambda function in Python and when is it typically used?\n",
        "\n"
      ],
      "metadata": {
        "id": "Ni1paldMjqp-"
      }
    },
    {
      "cell_type": "markdown",
      "source": [
        "->\n",
        "A lambda function in Python is a small anonymous function defined using the lambda keyword. It can take any number of arguments but only has one expression, which is evaluated and returned. Lambda functions are typically used for short-term, simple tasks where defining a full function would be overkill.\n",
        "\n",
        "When to use:\n",
        "\n",
        "Quick, one-line functions: Often used in places like map(), filter(), and sorted() where you need a short function without the overhead of defining a full function.\n",
        "\n",
        "Example:"
      ],
      "metadata": {
        "id": "benRUQaFjx3T"
      }
    },
    {
      "cell_type": "code",
      "source": [
        "# Lambda function to add two numbers\n",
        "add = lambda x, y: x + y\n",
        "\n",
        "print(add(3, 5))  # Output: 8\n"
      ],
      "metadata": {
        "colab": {
          "base_uri": "https://localhost:8080/"
        },
        "id": "EwFesWaJkAO_",
        "outputId": "1da3e943-39ac-42fb-c440-0054df153099"
      },
      "execution_count": 12,
      "outputs": [
        {
          "output_type": "stream",
          "name": "stdout",
          "text": [
            "8\n"
          ]
        }
      ]
    },
    {
      "cell_type": "markdown",
      "source": [
        "Summary:\n",
        "\n",
        "Lambda functions are small, anonymous, one-line functions.\n",
        "\n",
        "Used for simple operations that don’t require the overhead of a full function definition."
      ],
      "metadata": {
        "id": "f_n750dRkFNp"
      }
    },
    {
      "cell_type": "markdown",
      "source": [
        "9. Explain the purpose and usage of the `map()` function in Python."
      ],
      "metadata": {
        "id": "aJ86IK-VkLD5"
      }
    },
    {
      "cell_type": "markdown",
      "source": [
        "-> The map() function in Python is used to apply a given function to each item of an iterable (like a list or tuple) and return an iterator that produces the results. It's often used when you want to transform data in a sequence in a concise manner.\n",
        "\n",
        "Purpose:\n",
        "\n",
        "Transform elements of an iterable: Apply a function to each item of the iterable and return the transformed values.\n",
        "\n",
        "Example:"
      ],
      "metadata": {
        "id": "iDCRC9W1kPgl"
      }
    },
    {
      "cell_type": "code",
      "source": [
        "# Function to square a number\n",
        "def square(x):\n",
        "    return x * x\n",
        "\n",
        "# Using map() to apply 'square' to each element of the list\n",
        "numbers = [1, 2, 3, 4]\n",
        "squared_numbers = map(square, numbers)\n",
        "\n",
        "# Convert the map object to a list and print\n",
        "print(list(squared_numbers))  # Output: [1, 4, 9, 16]\n"
      ],
      "metadata": {
        "colab": {
          "base_uri": "https://localhost:8080/"
        },
        "id": "v5RlVy9zkrar",
        "outputId": "2894408e-ffc5-43d7-dac0-dda719694f2e"
      },
      "execution_count": 13,
      "outputs": [
        {
          "output_type": "stream",
          "name": "stdout",
          "text": [
            "[1, 4, 9, 16]\n"
          ]
        }
      ]
    },
    {
      "cell_type": "markdown",
      "source": [
        "10. What is the difference between `map()`, `reduce()`, and `filter()` functions in Python?"
      ],
      "metadata": {
        "id": "Ht7VOMZSku-d"
      }
    },
    {
      "cell_type": "markdown",
      "source": [
        "-> In Python, map(), reduce(), and filter() are all higher-order functions that operate on iterables. They are used to apply functions to data, but each serves a different purpose:\n",
        "\n",
        "1. map():\n",
        "\n",
        "Purpose: Applies a function to each item of an iterable and returns an iterator of the results.\n",
        "\n",
        "Use Case: When you want to transform all elements of an iterable.\n",
        "\n",
        "Example:"
      ],
      "metadata": {
        "id": "Us0ghF_xkzGP"
      }
    },
    {
      "cell_type": "code",
      "source": [
        "numbers = [1, 2, 3, 4]\n",
        "squared = map(lambda x: x * x, numbers)\n",
        "print(list(squared))  # Output: [1, 4, 9, 16]\n"
      ],
      "metadata": {
        "colab": {
          "base_uri": "https://localhost:8080/"
        },
        "id": "PM9H6aGFlEqV",
        "outputId": "de0fe2da-0387-432b-a7cf-2148c87cd26c"
      },
      "execution_count": 14,
      "outputs": [
        {
          "output_type": "stream",
          "name": "stdout",
          "text": [
            "[1, 4, 9, 16]\n"
          ]
        }
      ]
    },
    {
      "cell_type": "markdown",
      "source": [
        "2. reduce() (from functools):\n",
        "\n",
        "Purpose: Applies a binary function (a function that takes two arguments) cumulatively to the items of an iterable, reducing the iterable to a single value.\n",
        "\n",
        "Use Case: When you want to combine the elements of an iterable into a single value (e.g., summing or multiplying all elements).\n",
        "\n",
        "Example:"
      ],
      "metadata": {
        "id": "nWTvhoDGlIEd"
      }
    },
    {
      "cell_type": "code",
      "source": [
        "from functools import reduce\n",
        "\n",
        "numbers = [1, 2, 3, 4]\n",
        "product = reduce(lambda x, y: x * y, numbers)\n",
        "print(product)  # Output: 24\n"
      ],
      "metadata": {
        "colab": {
          "base_uri": "https://localhost:8080/"
        },
        "id": "kSVt4gEGlREr",
        "outputId": "3282b377-88c1-49cf-aac2-eaf5ecbddc8b"
      },
      "execution_count": 15,
      "outputs": [
        {
          "output_type": "stream",
          "name": "stdout",
          "text": [
            "24\n"
          ]
        }
      ]
    },
    {
      "cell_type": "markdown",
      "source": [
        "3. filter():\n",
        "\n",
        "Purpose: Filters items from an iterable by applying a function that returns True or False. It returns an iterator of elements that evaluate to True.\n",
        "\n",
        "Use Case: When you want to filter elements based on a condition.\n",
        "\n",
        "Example:"
      ],
      "metadata": {
        "id": "1ZvB7l-JlTw5"
      }
    },
    {
      "cell_type": "code",
      "source": [
        "numbers = [1, 2, 3, 4, 5]\n",
        "even_numbers = filter(lambda x: x % 2 == 0, numbers)\n",
        "print(list(even_numbers))  # Output: [2, 4]\n"
      ],
      "metadata": {
        "colab": {
          "base_uri": "https://localhost:8080/"
        },
        "id": "b9KtFu1alZR5",
        "outputId": "67dd5c71-d414-4899-f74c-377249d8d58e"
      },
      "execution_count": 16,
      "outputs": [
        {
          "output_type": "stream",
          "name": "stdout",
          "text": [
            "[2, 4]\n"
          ]
        }
      ]
    },
    {
      "cell_type": "markdown",
      "source": [
        "11. Using pen & Paper write the internal mechanism for sum operation using  reduce function on this given\n",
        "list:[47,11,42,13];"
      ],
      "metadata": {
        "id": "BX8DUFRJleZq"
      }
    },
    {
      "cell_type": "markdown",
      "source": [
        "->"
      ],
      "metadata": {
        "id": "Cj2PT0LHmO-9"
      }
    },
    {
      "cell_type": "markdown",
      "source": [
        "# PRACTICAL QUESTIONS\n"
      ],
      "metadata": {
        "id": "QABagZUVmVe5"
      }
    },
    {
      "cell_type": "markdown",
      "source": [
        "1.Write a Python function that takes a list of numbers as input and returns the sum of all even numbers in\n",
        "the list."
      ],
      "metadata": {
        "id": "9ir_djjxmdL9"
      }
    },
    {
      "cell_type": "code",
      "source": [
        "def sum_of_even_numbers(numbers):\n",
        "    # Use list comprehension to filter even numbers and sum them\n",
        "    return sum(num for num in numbers if num % 2 == 0)\n",
        "\n",
        "# Example usage:\n",
        "numbers = [47, 11, 42, 13, 28]\n",
        "result = sum_of_even_numbers(numbers)\n",
        "print(result)  # Output: 70 (42 + 28)\n"
      ],
      "metadata": {
        "colab": {
          "base_uri": "https://localhost:8080/"
        },
        "id": "VU6f2_39mkvZ",
        "outputId": "6cf74819-cd12-4eee-bb0b-4a2bf79f4e44"
      },
      "execution_count": 17,
      "outputs": [
        {
          "output_type": "stream",
          "name": "stdout",
          "text": [
            "70\n"
          ]
        }
      ]
    },
    {
      "cell_type": "markdown",
      "source": [
        "2. Create a Python function that accepts a string and returns the reverse of that string."
      ],
      "metadata": {
        "id": "qQuyJ2jUmuI-"
      }
    },
    {
      "cell_type": "code",
      "source": [
        "def reverse_string(s):\n",
        "    return s[::-1]\n",
        "\n",
        "# Example usage:\n",
        "input_string = \"Hello, World!\"\n",
        "reversed_string = reverse_string(input_string)\n",
        "print(reversed_string)  # Output: \"!dlroW ,olleH\"\n"
      ],
      "metadata": {
        "colab": {
          "base_uri": "https://localhost:8080/"
        },
        "id": "GKNY7gwKmytQ",
        "outputId": "4689ae9a-e403-47d9-cd9a-f954e9fde596"
      },
      "execution_count": 18,
      "outputs": [
        {
          "output_type": "stream",
          "name": "stdout",
          "text": [
            "!dlroW ,olleH\n"
          ]
        }
      ]
    },
    {
      "cell_type": "markdown",
      "source": [
        "3. Implement a Python function that takes a list of integers and returns a new list containing the squares of\n",
        "each number."
      ],
      "metadata": {
        "id": "3IFTkOJTm6Y6"
      }
    },
    {
      "cell_type": "code",
      "source": [
        "def square_numbers(numbers):\n",
        "    return [num ** 2 for num in numbers]\n",
        "\n",
        "# Example usage:\n",
        "input_list = [1, 2, 3, 4, 5]\n",
        "squared_list = square_numbers(input_list)\n",
        "print(squared_list)  # Output: [1, 4, 9, 16, 25]\n"
      ],
      "metadata": {
        "colab": {
          "base_uri": "https://localhost:8080/"
        },
        "id": "ls-YIu1vm_yb",
        "outputId": "a58ad37a-9452-4e90-e9d7-4accfc843a79"
      },
      "execution_count": 19,
      "outputs": [
        {
          "output_type": "stream",
          "name": "stdout",
          "text": [
            "[1, 4, 9, 16, 25]\n"
          ]
        }
      ]
    },
    {
      "cell_type": "markdown",
      "source": [
        "4.Write a Python function that checks if a given number is prime or not from 1 to 200."
      ],
      "metadata": {
        "id": "SorGQd8OnHSo"
      }
    },
    {
      "cell_type": "code",
      "source": [
        "def is_prime(n):\n",
        "    if n <= 1:\n",
        "        return False  # 1 and numbers less than 1 are not prime\n",
        "    for i in range(2, int(n**0.5) + 1):\n",
        "        if n % i == 0:\n",
        "            return False  # Found a divisor, so it's not prime\n",
        "    return True  # No divisors found, so it is prime\n",
        "\n",
        "# Checking prime numbers from 1 to 200\n",
        "for num in range(1, 201):\n",
        "    if is_prime(num):\n",
        "        print(num, end=\" \")  # Print all primes from 1 to 200\n"
      ],
      "metadata": {
        "colab": {
          "base_uri": "https://localhost:8080/"
        },
        "id": "vOfieka2nN_f",
        "outputId": "e81c112c-5bd9-4eed-dfea-43bfd650e10d"
      },
      "execution_count": 20,
      "outputs": [
        {
          "output_type": "stream",
          "name": "stdout",
          "text": [
            "2 3 5 7 11 13 17 19 23 29 31 37 41 43 47 53 59 61 67 71 73 79 83 89 97 101 103 107 109 113 127 131 137 139 149 151 157 163 167 173 179 181 191 193 197 199 "
          ]
        }
      ]
    },
    {
      "cell_type": "markdown",
      "source": [
        "5.Create an iterator class in Python that generates the Fibonacci sequence up to a specified number of\n",
        "terms."
      ],
      "metadata": {
        "id": "RdLVC2RSnXXL"
      }
    },
    {
      "cell_type": "code",
      "source": [
        "class FibonacciIterator:\n",
        "    def __init__(self, terms):\n",
        "        self.terms = terms  # Number of terms to generate\n",
        "        self.count = 0      # Keeps track of how many terms have been generated\n",
        "        self.a, self.b = 0, 1  # The first two terms of the Fibonacci sequence\n",
        "\n",
        "    def __iter__(self):\n",
        "        return self  # The iterator object itself\n",
        "\n",
        "    def __next__(self):\n",
        "        if self.count >= self.terms:\n",
        "            raise StopIteration  # Stop iteration when the desired number of terms is reached\n",
        "        fib_value = self.a\n",
        "        self.a, self.b = self.b, self.a + self.b  # Update the next two terms\n",
        "        self.count += 1\n",
        "        return fib_value\n",
        "\n",
        "# Example usage:\n",
        "fib = FibonacciIterator(10)  # Create an iterator for the first 10 Fibonacci numbers\n",
        "for num in fib:\n",
        "    print(num)\n"
      ],
      "metadata": {
        "colab": {
          "base_uri": "https://localhost:8080/"
        },
        "id": "Beg4IKlOncJz",
        "outputId": "56d13034-3007-4640-9329-3cec186d230b"
      },
      "execution_count": 21,
      "outputs": [
        {
          "output_type": "stream",
          "name": "stdout",
          "text": [
            "0\n",
            "1\n",
            "1\n",
            "2\n",
            "3\n",
            "5\n",
            "8\n",
            "13\n",
            "21\n",
            "34\n"
          ]
        }
      ]
    },
    {
      "cell_type": "markdown",
      "source": [
        "6.Write a generator function in Python that yields the powers of 2 up to a given exponent."
      ],
      "metadata": {
        "id": "3Xi7wxX-noBr"
      }
    },
    {
      "cell_type": "code",
      "source": [
        "def powers_of_two(exponent):\n",
        "    for i in range(exponent + 1):\n",
        "        yield 2 ** i  # Yield the power of 2 for the current exponent\n",
        "\n",
        "# Example usage:\n",
        "for power in powers_of_two(5):\n",
        "    print(power)\n"
      ],
      "metadata": {
        "colab": {
          "base_uri": "https://localhost:8080/"
        },
        "id": "NlYAVMg2ntaZ",
        "outputId": "d4caaf6e-e61b-43b8-b5cd-cb82a2feee2a"
      },
      "execution_count": 22,
      "outputs": [
        {
          "output_type": "stream",
          "name": "stdout",
          "text": [
            "1\n",
            "2\n",
            "4\n",
            "8\n",
            "16\n",
            "32\n"
          ]
        }
      ]
    },
    {
      "cell_type": "markdown",
      "source": [
        "7. Implement a generator function that reads a file line by line and yields each line as a string."
      ],
      "metadata": {
        "id": "rp10tO1Ln6JE"
      }
    },
    {
      "cell_type": "code",
      "source": [],
      "metadata": {
        "id": "yrKPljeUo4rV"
      },
      "execution_count": null,
      "outputs": []
    },
    {
      "cell_type": "markdown",
      "source": [
        "8.Use a lambda function in Python to sort a list of tuples based on the second element of each tuple."
      ],
      "metadata": {
        "id": "73Z6VfqDo5eL"
      }
    },
    {
      "cell_type": "code",
      "source": [
        "# List of tuples\n",
        "tuples = [(1, 5), (2, 3), (3, 8), (4, 1)]\n",
        "\n",
        "# Sort the list of tuples based on the second element using a lambda function\n",
        "sorted_tuples = sorted(tuples, key=lambda x: x[1])\n",
        "\n",
        "# Output the sorted list\n",
        "print(sorted_tuples)\n"
      ],
      "metadata": {
        "colab": {
          "base_uri": "https://localhost:8080/"
        },
        "id": "ZDcXHkuTpDrD",
        "outputId": "6e8871c5-9abb-463d-9577-82a6c181f1d0"
      },
      "execution_count": 26,
      "outputs": [
        {
          "output_type": "stream",
          "name": "stdout",
          "text": [
            "[(4, 1), (2, 3), (1, 5), (3, 8)]\n"
          ]
        }
      ]
    },
    {
      "cell_type": "markdown",
      "source": [
        "9.Write a Python program that uses `map()` to convert a list of temperatures from Celsius to Fahrenheit."
      ],
      "metadata": {
        "id": "xpZ-WUUipQqA"
      }
    },
    {
      "cell_type": "code",
      "source": [
        "# List of temperatures in Celsius\n",
        "celsius_temperatures = [0, 20, 30, 40, 100]\n",
        "\n",
        "# Function to convert Celsius to Fahrenheit\n",
        "def celsius_to_fahrenheit(celsius):\n",
        "    return (celsius * 9/5) + 32\n",
        "\n",
        "# Use map() to apply the conversion function to each element in the list\n",
        "fahrenheit_temperatures = map(celsius_to_fahrenheit, celsius_temperatures)\n",
        "\n",
        "# Convert the result to a list and print\n",
        "print(list(fahrenheit_temperatures))\n"
      ],
      "metadata": {
        "colab": {
          "base_uri": "https://localhost:8080/"
        },
        "id": "634i6IiwpSLd",
        "outputId": "07c70792-36d1-4260-e533-3ba735f01dd1"
      },
      "execution_count": 27,
      "outputs": [
        {
          "output_type": "stream",
          "name": "stdout",
          "text": [
            "[32.0, 68.0, 86.0, 104.0, 212.0]\n"
          ]
        }
      ]
    },
    {
      "cell_type": "markdown",
      "source": [
        "10. Create a Python program that uses `filter()` to remove all the vowels from a given string.\n",
        "\n",
        "\n"
      ],
      "metadata": {
        "id": "tK1rgXs3pa4N"
      }
    },
    {
      "cell_type": "code",
      "source": [
        "# Function to check if a character is a vowel\n",
        "def is_not_vowel(char):\n",
        "    vowels = 'aeiouAEIOU'\n",
        "    return char not in vowels\n",
        "\n",
        "# Given string\n",
        "input_string = \"Hello, World!\"\n",
        "\n",
        "# Use filter() to remove vowels by filtering out characters that are vowels\n",
        "filtered_string = ''.join(filter(is_not_vowel, input_string))\n",
        "\n",
        "# Output the result\n",
        "print(filtered_string)\n"
      ],
      "metadata": {
        "colab": {
          "base_uri": "https://localhost:8080/"
        },
        "id": "MvFfd-sgpfan",
        "outputId": "156faf4e-9787-4159-eb49-717c9a0cfed0"
      },
      "execution_count": 28,
      "outputs": [
        {
          "output_type": "stream",
          "name": "stdout",
          "text": [
            "Hll, Wrld!\n"
          ]
        }
      ]
    },
    {
      "cell_type": "markdown",
      "source": [
        "11) Imagine an accounting routine used in a book shop. It works on a list with sublists, which look like this:\n",
        "\n",
        "#order number      book title and author      quantity       price per item\n",
        "\n",
        "\n",
        "\n",
        "\n",
        "\n",
        "\n",
        "\n",
        "Write a Python program, which returns a list with 2-tuples. Each tuple consists of the order number and the\n",
        "product of the price per item and the quantity. The product should be increased by 10,- € if the value of the\n",
        "order is smaller than 100,00 €.\n",
        "\n",
        "Write a Python program using lambda and map."
      ],
      "metadata": {
        "id": "y1k2_5gVpo8f"
      }
    }
  ]
}